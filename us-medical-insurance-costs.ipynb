{
 "cells": [
  {
   "cell_type": "markdown",
   "metadata": {},
   "source": [
    "# U.S. Medical Insurance Costs"
   ]
  },
  {
   "cell_type": "markdown",
   "metadata": {},
   "source": [
    "## Project Objectives:\n",
    "\n",
    "- Work locally on your own computer\n",
    "- Import a dataset into your program\n",
    "- Analyze a dataset by building out functions or class methods\n",
    "- Use libraries to assist in your analysis\n",
    "- Optional: Document and organize your findings\n",
    "- Optional: Make predictions about a dataset’s features based on your findings\n"
   ]
  },
  {
   "cell_type": "markdown",
   "metadata": {},
   "source": [
    "## Some analysis goals for this project:\n",
    "- average cost of insurance\n",
    "    - take two parameters for average in location\n",
    "- different costs between smoker and non-smoker\n",
    "- average age of x amount of children\n",
    "- counting which region each person is from"
   ]
  },
  {
   "cell_type": "code",
   "execution_count": 1,
   "metadata": {},
   "outputs": [],
   "source": [
    "# Import a dataset into your program\n",
    "\n",
    "import csv\n",
    "\n",
    "# Setting up empty lists for imported data to fill\n",
    "\n",
    "# age = []\n",
    "# sex = []\n",
    "# bmi = []\n",
    "# children = []\n",
    "# smoker = []\n",
    "# region = []\n",
    "# charges = []\n",
    "# \n",
    "\n",
    "# with open('insurance.csv', newline='') as insurance_csv:\n",
    "#     insurance_reader = csv.DictReader(insurance_csv)\n",
    "#     for row in insurance_reader:\n",
    "#         age.append(row['age'])\n",
    "#         sex.append(row['sex'])\n",
    "#         bmi.append(row['bmi'])\n",
    "#         children.append(row['children'])\n",
    "#         smoker.append(row['smoker'])\n",
    "#         region.append(row['region'])\n",
    "#         charges.append(float(row['charges']))\n",
    "\n",
    "        \n",
    "# dict1 = {}\n",
    "\n",
    "# dict1['age'] = age\n",
    "# dict1['sex'] = sex\n",
    "# dict1['bmi'] = bmi\n",
    "# dict1['children'] = children\n",
    "# dict1['smoker'] = smoker\n",
    "# dict1['region'] = region\n",
    "# dict1['charges'] = charges\n"
   ]
  },
  {
   "cell_type": "markdown",
   "metadata": {},
   "source": [
    "Initially used the code above to create new lists and dictionaries in which I could work off. However using the below code allowed made things more cleaner, instead of using zips to join different tables together and taking data from there."
   ]
  },
  {
   "cell_type": "code",
   "execution_count": 2,
   "metadata": {
    "scrolled": false
   },
   "outputs": [],
   "source": [
    "data_dict = []\n",
    "\n",
    "from csv import DictReader\n",
    "# open file in read mode\n",
    "with open('insurance.csv', 'r') as insurance_csv2:\n",
    "    csv_dict_reader = DictReader(insurance_csv2)\n",
    "    for row in csv_dict_reader:\n",
    "        data_dict.append(row)\n"
   ]
  },
  {
   "cell_type": "markdown",
   "metadata": {},
   "source": [
    "### What is the average cost of insurance?\n",
    "\n",
    "Average cost code below was simply going through a charges list and dividing it by the length of the list. However after reworking my overall data I then created a function for averages depending on the category."
   ]
  },
  {
   "cell_type": "code",
   "execution_count": 3,
   "metadata": {},
   "outputs": [],
   "source": [
    "# First attempt using the charges list, which gave the correct answer however had to reformat it so I can\n",
    "# utilise the data_dict dictionary\n",
    "\n",
    "# def average_cost(lst):\n",
    "#     total_cost = 0\n",
    "#     for charge in lst:\n",
    "#         total_cost += charge\n",
    "#     return total_cost / len(lst)\n",
    "\n",
    "# average_cost(charges)\n",
    "\n",
    "\n",
    "def new_average(category):\n",
    "    total_cost = {'total':0} # created a reference dictionary\n",
    "    counter = 0 \n",
    "    for record in data_dict:\n",
    "        total_cost['total'] += float(record[category]) # value is then added into the total_cost dictionary\n",
    "        counter += 1\n",
    "    avg_cost = total_cost['total'] / counter\n",
    "    print(f\"Average of {category}: {format(avg_cost, '.2f')}\")\n",
    "\n",
    "# testing\n",
    "# new_average('charges')\n",
    "# new_average('bmi')\n",
    "# new_average('age')"
   ]
  },
  {
   "cell_type": "markdown",
   "metadata": {},
   "source": [
    "### Average cost of insurance split by region\n",
    "\n",
    "The idea is to calculate the totals of the regions and then to calculate the average is to divide the total by the amount of entries within the region.\n",
    "\n",
    "Initially used the below commented out code to generate the average costs per location. "
   ]
  },
  {
   "cell_type": "code",
   "execution_count": 4,
   "metadata": {},
   "outputs": [],
   "source": [
    "# initial data\n",
    "\n",
    "# totalling the updated_charges values into one value\n",
    "\n",
    "# combined_list = list(zip(region, charges))\n",
    "# tot_dict1 = {}\n",
    "# for t in combined_list:\n",
    "#     if t[0] in tot_dict1:\n",
    "#         tot_dict1[t[0]] += t[1]\n",
    "#     else:\n",
    "#         tot_dict1[t[0]] = t[1]\n",
    "\n",
    "# # count of regions        \n",
    "\n",
    "# count_dict1 = {}\n",
    "# for t in combined_list:\n",
    "#     if t[0] in count_dict1:\n",
    "#         count_dict1[t[0]] += 1\n",
    "#     else:\n",
    "#         count_dict1[t[0]] = 1\n",
    "\n",
    "# # average        \n",
    "\n",
    "# avg_dict1 = {}\n",
    "# for x in tot_dict:\n",
    "#     avg_dict1[x] = tot_dict1[x] / count_dict1[x]\n",
    "    \n",
    "# print(avg_dict1)"
   ]
  },
  {
   "cell_type": "markdown",
   "metadata": {},
   "source": [
    "I then transitioned into using the following code as it draws from the central `data_dict` dictionary. Additionally I combined the `tot_dict` and `count_dict` dictionaries into 1 loop statement."
   ]
  },
  {
   "cell_type": "code",
   "execution_count": 5,
   "metadata": {},
   "outputs": [],
   "source": [
    "# Average cost per region\n",
    "\n",
    "tot_dict = {}\n",
    "count_dict = {} # counting per entry\n",
    "for record in data_dict:\n",
    "    if record['region'] in tot_dict: # if the region isn't found in the new dict add key and value into tot_dict\n",
    "        tot_dict[record['region']] += float(record['charges']) # loop to record the charge value back into tot_dict\n",
    "        count_dict[record['region']] += 1\n",
    "    else:\n",
    "        tot_dict[record['region']] = float(record['charges']) \n",
    "        count_dict[record['region']] = 1\n",
    "        \n",
    "# average loop - dividing the region with the same region in count        \n",
    "avg_dict = {}\n",
    "for x in tot_dict:\n",
    "    avg_dict[x] = tot_dict[x] / count_dict[x]\n",
    "\n",
    "# testing    \n",
    "# print(avg_dict)\n",
    "\n",
    "\n"
   ]
  },
  {
   "cell_type": "markdown",
   "metadata": {},
   "source": [
    "### Different costs between smoker and non-smoker\n",
    "\n",
    "As we want to know the difference in costs between smoker and non-smoker we can utilise the code from the average cost per region and create a function. We can then adapt the 'region' key into an argument."
   ]
  },
  {
   "cell_type": "code",
   "execution_count": 6,
   "metadata": {},
   "outputs": [],
   "source": [
    "# Different costs between smoker and non-smoker\n",
    "\n",
    "def average_cost_category(category): # function created to use category argument for flexibility\n",
    "    tot_dict = {}\n",
    "    count_dict = {} # counting per entry\n",
    "    for record in data_dict:\n",
    "        if record[category] in tot_dict:\n",
    "            tot_dict[record[category]] += float(record['charges'])\n",
    "            count_dict[record[category]] += 1\n",
    "        else:\n",
    "            tot_dict[record[category]] = float(record['charges'])\n",
    "            count_dict[record[category]] = 1\n",
    "\n",
    "    avg_dict = {}\n",
    "    for x in tot_dict:\n",
    "        avg_dict[x] = tot_dict[x] / count_dict[x]\n",
    "\n",
    "    for key, value in avg_dict.items():\n",
    "        print(f\"{category}: the average cost for {key} is ${format(value, '.2f')}\")\n",
    "\n",
    "# testing\n",
    "# average_cost_category('smoker')\n",
    "# average_cost_category('region')\n",
    "# average_cost_category('sex')\n",
    "\n",
    "\n"
   ]
  },
  {
   "cell_type": "markdown",
   "metadata": {},
   "source": [
    "With the argument for category now in place we can quickly gather information on other categories easily. "
   ]
  },
  {
   "cell_type": "markdown",
   "metadata": {},
   "source": [
    "### Average age of X amount of children\n",
    "\n",
    "Similarly with the above we can utilise similar code and adapt it with the below analysis. "
   ]
  },
  {
   "cell_type": "code",
   "execution_count": 7,
   "metadata": {
    "scrolled": true
   },
   "outputs": [],
   "source": [
    "# Average age of X amount of children\n",
    "\n",
    "def average_age(category):\n",
    "    tot_dict = {}\n",
    "    count_dict = {} # counting per entry\n",
    "    for record in data_dict:\n",
    "        if record[category] in tot_dict:\n",
    "            tot_dict[record[category]] += float(record['age'])\n",
    "            count_dict[record[category]] += 1\n",
    "        else:\n",
    "            tot_dict[record[category]] = float(record['age'])\n",
    "            count_dict[record[category]] = 1\n",
    "\n",
    "    avg_dict = {}\n",
    "    for x in tot_dict:\n",
    "        avg_dict[x] = tot_dict[x] / count_dict[x]\n",
    "\n",
    "    for key,value in avg_dict.items():\n",
    "        if key == '1':\n",
    "            print(f\"The average age for owning {key} child is {format(value, '.2f')}\")\n",
    "        else:\n",
    "            print(f\"The average age for owning {key} children is {format(value, '.2f')}\")\n",
    "\n",
    "# testing\n",
    "# average_age('children')"
   ]
  },
  {
   "cell_type": "markdown",
   "metadata": {},
   "source": [
    "### Counting which region each person is from\n",
    "\n",
    "Whilst writing the code for the averages we can adapt the `average_cost()` or `average_age()` functions to just simply count the category without averaging against cost or age.\n",
    "\n",
    "I have also added a percentage split within the category to be analysed"
   ]
  },
  {
   "cell_type": "code",
   "execution_count": 8,
   "metadata": {
    "scrolled": true
   },
   "outputs": [
    {
     "name": "stdout",
     "output_type": "stream",
     "text": [
      "With 325 entries the southwest is made up of 24.29 %\n",
      "With 364 entries the southeast is made up of 27.20 %\n",
      "With 325 entries the northwest is made up of 24.29 %\n",
      "With 324 entries the northeast is made up of 24.22 %\n"
     ]
    }
   ],
   "source": [
    "# Counting which region each person is from\n",
    "\n",
    "def count_pct_cat(category):\n",
    "    count_pct_dict = {} # counting per entry\n",
    "    count_dict = {}\n",
    "    total = 0\n",
    "    for record in data_dict:\n",
    "        total += 1\n",
    "    \n",
    "    for record in data_dict:\n",
    "        if record[category] in count_pct_dict:\n",
    "            count_pct_dict[record[category]] += (100 / total) # calculation used to retrieve percentage amount\n",
    "            count_dict[record[category]] += 1\n",
    "        else:\n",
    "            count_pct_dict[record[category]] = (100 / total)\n",
    "            count_dict[record[category]] = 1\n",
    "\n",
    "    \n",
    "    for key, value in count_pct_dict.items():\n",
    "        str2 = str(f\"the {key} is made up of {format(value, '.2f')} %\")\n",
    "        for key1, value1 in count_dict.items():\n",
    "            if key == key1:\n",
    "                str1 = str(f\"With {value1} entries \")\n",
    "                print(str1 + str2)\n",
    "        \n",
    "       \n",
    "        \n",
    "# testing \n",
    "count_pct_cat('region')\n"
   ]
  },
  {
   "cell_type": "markdown",
   "metadata": {},
   "source": [
    "After completing the calculations for the functions, I added print statements that help give a clear message to best understand the analysis.\n",
    "\n",
    "I also went back to the `average_cost()` function and re-did it to no longer be dependent on the lists created earlier."
   ]
  },
  {
   "cell_type": "markdown",
   "metadata": {},
   "source": [
    "### Some Insights\n",
    "\n",
    "After utilising the functions `new_average()`, `count_pct_cat()` and `average_cost_category()` and reviewing I can see that:\n",
    "\n",
    "- Smokers are charged **&#0036;23,000** more than non-smokers\n",
    "- **42%** of the data do not have any children and **24%** have only 1 child and on average are charged around **&#0036;12,500**\n",
    "- This jumps up when you have 2-3 children when the cost is around **&#0036;15,000**\n",
    "- This then drops when you have 4 children at **&#0036;13,850** and 5 children at **&#0036;8786**\n",
    "    - However the sample size of 4-5 children only makes up 3% of the data\n",
    "- Around 10% of the data is aged 18-19\n",
    "- People from the **southeast region** on average are charged the most. Coinincidentally it has **3%** more entries than the other 3 regions (all around **24%**)"
   ]
  },
  {
   "cell_type": "code",
   "execution_count": 9,
   "metadata": {},
   "outputs": [
    {
     "name": "stdout",
     "output_type": "stream",
     "text": [
      "region: the average cost for southwest is $12346.94\n",
      "region: the average cost for southeast is $14735.41\n",
      "region: the average cost for northwest is $12417.58\n",
      "region: the average cost for northeast is $13406.38\n",
      "With 325 entries the southwest is made up of 24.29 %\n",
      "With 364 entries the southeast is made up of 27.20 %\n",
      "With 325 entries the northwest is made up of 24.29 %\n",
      "With 324 entries the northeast is made up of 24.22 %\n"
     ]
    }
   ],
   "source": [
    "# space I used to quickly grab insights using the functions\n",
    "\n",
    "average_cost_category('region')\n",
    "count_pct_cat('region')"
   ]
  }
 ],
 "metadata": {
  "celltoolbar": "Raw Cell Format",
  "kernelspec": {
   "display_name": "Python 3",
   "language": "python",
   "name": "python3"
  },
  "language_info": {
   "codemirror_mode": {
    "name": "ipython",
    "version": 3
   },
   "file_extension": ".py",
   "mimetype": "text/x-python",
   "name": "python",
   "nbconvert_exporter": "python",
   "pygments_lexer": "ipython3",
   "version": "3.8.5"
  }
 },
 "nbformat": 4,
 "nbformat_minor": 4
}
